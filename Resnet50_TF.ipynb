{
  "nbformat": 4,
  "nbformat_minor": 0,
  "metadata": {
    "colab": {
      "name": "Resnet50_TF.ipynb",
      "provenance": []
    },
    "kernelspec": {
      "name": "python3",
      "display_name": "Python 3"
    },
    "language_info": {
      "name": "python"
    }
  },
  "cells": [
    {
      "cell_type": "code",
      "execution_count": 3,
      "metadata": {
        "id": "mBL3Nw2QEHug"
      },
      "outputs": [],
      "source": [
        "import tensorflow as tf\n",
        "from d2l import tensorflow as d2l\n",
        "\n",
        "\n",
        "class Residual(tf.keras.Model):\n",
        "    \"\"\"The Residual block of ResNet.\"\"\"\n",
        "    def __init__(self, num_channels, use_1x1conv=False, strides=1):\n",
        "        super().__init__()\n",
        "        self.conv1 = tf.keras.layers.Conv2D(\n",
        "            num_channels, padding='same', kernel_size=3, strides=strides)\n",
        "        self.conv2 = tf.keras.layers.Conv2D(\n",
        "            num_channels, kernel_size=3, padding='same')\n",
        "        self.conv3 = None\n",
        "        if use_1x1conv:\n",
        "            self.conv3 = tf.keras.layers.Conv2D(\n",
        "                num_channels, kernel_size=1, strides=strides)\n",
        "        self.bn1 = tf.keras.layers.BatchNormalization()\n",
        "        self.bn2 = tf.keras.layers.BatchNormalization()\n",
        "\n",
        "    def call(self, X):\n",
        "        Y = tf.keras.activations.relu(self.bn1(self.conv1(X)))\n",
        "        Y = self.bn2(self.conv2(Y))\n",
        "        if self.conv3 is not None:\n",
        "            X = self.conv3(X)\n",
        "        Y += X\n",
        "        return tf.keras.activations.relu(Y)"
      ]
    },
    {
      "cell_type": "code",
      "source": [
        "blk = Residual(3)\n",
        "X = tf.random.uniform((4, 6, 6, 3))\n",
        "Y = blk(X)\n",
        "Y.shape"
      ],
      "metadata": {
        "colab": {
          "base_uri": "https://localhost:8080/"
        },
        "id": "NL2cQRskELOR",
        "outputId": "a2c48563-17f3-4c64-86b1-d64a64813b56"
      },
      "execution_count": 4,
      "outputs": [
        {
          "output_type": "execute_result",
          "data": {
            "text/plain": [
              "TensorShape([4, 6, 6, 3])"
            ]
          },
          "metadata": {},
          "execution_count": 4
        }
      ]
    },
    {
      "cell_type": "code",
      "source": [
        "blk = Residual(6, use_1x1conv=True, strides=2)\n",
        "blk(X).shape"
      ],
      "metadata": {
        "colab": {
          "base_uri": "https://localhost:8080/"
        },
        "id": "zPDlBhjEETkO",
        "outputId": "19217982-c77a-4d5e-f4e1-e0ae0e9610ec"
      },
      "execution_count": 5,
      "outputs": [
        {
          "output_type": "execute_result",
          "data": {
            "text/plain": [
              "TensorShape([4, 3, 3, 6])"
            ]
          },
          "metadata": {},
          "execution_count": 5
        }
      ]
    },
    {
      "cell_type": "code",
      "source": [
        "b1 = tf.keras.models.Sequential([\n",
        "    tf.keras.layers.Conv2D(64, kernel_size=7, strides=2, padding='same'),\n",
        "    tf.keras.layers.BatchNormalization(),\n",
        "    tf.keras.layers.Activation('relu'),\n",
        "    tf.keras.layers.MaxPool2D(pool_size=3, strides=2, padding='same')])"
      ],
      "metadata": {
        "id": "aXLWMh3DEjoQ"
      },
      "execution_count": 6,
      "outputs": []
    },
    {
      "cell_type": "code",
      "source": [
        "class ResnetBlock(tf.keras.layers.Layer):\n",
        "    def __init__(self, num_channels, num_residuals, first_block=False,\n",
        "                 **kwargs):\n",
        "        super(ResnetBlock, self).__init__(**kwargs)\n",
        "        self.residual_layers = []\n",
        "        for i in range(num_residuals):\n",
        "            if i == 0 and not first_block:\n",
        "                self.residual_layers.append(\n",
        "                    Residual(num_channels, use_1x1conv=True, strides=2))\n",
        "            else:\n",
        "                self.residual_layers.append(Residual(num_channels))\n",
        "\n",
        "    def call(self, X):\n",
        "        for layer in self.residual_layers.layers:\n",
        "            X = layer(X)\n",
        "        return X"
      ],
      "metadata": {
        "id": "xKn3rjJDEnbf"
      },
      "execution_count": 7,
      "outputs": []
    },
    {
      "cell_type": "code",
      "source": [
        "b2 = ResnetBlock(64, 2, first_block=True)\n",
        "b3 = ResnetBlock(128, 2)\n",
        "b4 = ResnetBlock(256, 2)\n",
        "b5 = ResnetBlock(512, 2)"
      ],
      "metadata": {
        "id": "gPkeCl1NEppW"
      },
      "execution_count": 8,
      "outputs": []
    },
    {
      "cell_type": "code",
      "source": [
        "def net():\n",
        "    return tf.keras.Sequential([\n",
        "        tf.keras.layers.Conv2D(64, kernel_size=7, strides=2, padding='same'),\n",
        "        tf.keras.layers.BatchNormalization(),\n",
        "        tf.keras.layers.Activation('relu'),\n",
        "        tf.keras.layers.MaxPool2D(pool_size=3, strides=2, padding='same'),\n",
        "        ResnetBlock(64, 2, first_block=True),\n",
        "        ResnetBlock(128, 2),\n",
        "        ResnetBlock(256, 2),\n",
        "        ResnetBlock(512, 2),\n",
        "        tf.keras.layers.GlobalAvgPool2D(),\n",
        "        tf.keras.layers.Dense(units=10)])"
      ],
      "metadata": {
        "id": "RTLPIM0TEsBR"
      },
      "execution_count": 9,
      "outputs": []
    },
    {
      "cell_type": "code",
      "source": [
        "X = tf.random.uniform(shape=(1, 224, 112, 1))\n",
        "for layer in net().layers:\n",
        "    X = layer(X)\n",
        "    print(layer.__class__.__name__,'output shape:\\t', X.shape)"
      ],
      "metadata": {
        "colab": {
          "base_uri": "https://localhost:8080/"
        },
        "id": "sqo7fQLtEuu7",
        "outputId": "0771c959-0269-4b54-af46-f9286b5a82fe"
      },
      "execution_count": 10,
      "outputs": [
        {
          "output_type": "stream",
          "name": "stdout",
          "text": [
            "Conv2D output shape:\t (1, 112, 56, 64)\n",
            "BatchNormalization output shape:\t (1, 112, 56, 64)\n",
            "Activation output shape:\t (1, 112, 56, 64)\n",
            "MaxPooling2D output shape:\t (1, 56, 28, 64)\n",
            "ResnetBlock output shape:\t (1, 56, 28, 64)\n",
            "ResnetBlock output shape:\t (1, 28, 14, 128)\n",
            "ResnetBlock output shape:\t (1, 14, 7, 256)\n",
            "ResnetBlock output shape:\t (1, 7, 4, 512)\n",
            "GlobalAveragePooling2D output shape:\t (1, 512)\n",
            "Dense output shape:\t (1, 10)\n"
          ]
        }
      ]
    },
    {
      "cell_type": "code",
      "source": [
        "lr, num_epochs, batch_size = 0.05, 10, 256\n",
        "train_iter, test_iter = d2l.load_data_fashion_mnist(batch_size, resize=96)\n",
        "d2l.train_ch6(net, train_iter, test_iter, num_epochs, lr, d2l.try_gpu())"
      ],
      "metadata": {
        "colab": {
          "base_uri": "https://localhost:8080/"
        },
        "id": "BiHMsarREzN2",
        "outputId": "a3b60c03-1246-4d1f-f0ef-088b10696f3b"
      },
      "execution_count": null,
      "outputs": [
        {
          "metadata": {
            "tags": null
          },
          "name": "stdout",
          "output_type": "stream",
          "text": [
            "Downloading data from https://storage.googleapis.com/tensorflow/tf-keras-datasets/train-labels-idx1-ubyte.gz\n",
            "32768/29515 [=================================] - 0s 0us/step\n",
            "40960/29515 [=========================================] - 0s 0us/step\n",
            "Downloading data from https://storage.googleapis.com/tensorflow/tf-keras-datasets/train-images-idx3-ubyte.gz\n",
            "26427392/26421880 [==============================] - 0s 0us/step\n",
            "26435584/26421880 [==============================] - 0s 0us/step\n",
            "Downloading data from https://storage.googleapis.com/tensorflow/tf-keras-datasets/t10k-labels-idx1-ubyte.gz\n",
            "16384/5148 [===============================================================================================] - 0s 0us/step\n",
            "Downloading data from https://storage.googleapis.com/tensorflow/tf-keras-datasets/t10k-images-idx3-ubyte.gz\n",
            "4423680/4422102 [==============================] - 0s 0us/step\n",
            "4431872/4422102 [==============================] - 0s 0us/step\n"
          ]
        }
      ]
    },
    {
      "cell_type": "code",
      "source": [
        ""
      ],
      "metadata": {
        "id": "o7R6aUPTQ4Yl"
      },
      "execution_count": null,
      "outputs": []
    }
  ]
}