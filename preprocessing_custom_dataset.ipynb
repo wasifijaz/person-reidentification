{
 "cells": [
  {
   "cell_type": "code",
   "execution_count": 1,
   "id": "ca2d33a0",
   "metadata": {},
   "outputs": [],
   "source": [
    "import cv2\n",
    "import glob"
   ]
  },
  {
   "cell_type": "code",
   "execution_count": 2,
   "id": "729f771d",
   "metadata": {},
   "outputs": [],
   "source": [
    "imdir = 'images/'\n",
    "files = []\n",
    "files.extend(glob.glob(imdir + '*.' + 'jpg'))\n",
    "images = [cv2.imread(file) for file in files]"
   ]
  },
  {
   "cell_type": "code",
   "execution_count": 3,
   "id": "074e292c",
   "metadata": {},
   "outputs": [],
   "source": [
    "for image in images:\n",
    "    resize = cv2.resize(image, (224, 112))\n",
    "    print(resize.shape)\n",
    "    cv2.imshow(\"image\",resize)\n",
    "    cv2.waitKey()\n",
    "    cv2.destroyAllWindows()"
   ]
  },
  {
   "cell_type": "code",
   "execution_count": null,
   "id": "5fc24dbc",
   "metadata": {},
   "outputs": [],
   "source": []
  }
 ],
 "metadata": {
  "kernelspec": {
   "display_name": "Python 3",
   "language": "python",
   "name": "python3"
  },
  "language_info": {
   "codemirror_mode": {
    "name": "ipython",
    "version": 3
   },
   "file_extension": ".py",
   "mimetype": "text/x-python",
   "name": "python",
   "nbconvert_exporter": "python",
   "pygments_lexer": "ipython3",
   "version": "3.8.8"
  }
 },
 "nbformat": 4,
 "nbformat_minor": 5
}
